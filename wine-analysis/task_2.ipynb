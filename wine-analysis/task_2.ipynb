{
 "cells": [
  {
   "cell_type": "markdown",
   "metadata": {},
   "source": [
    "# Task 2: Classification (Red vs. White)\n",
    "\n",
    "• Distinguish between red and white wines.\n",
    "\n",
    "• Use two different classification algorithms (they may, or may not, be the same as in Task 1)."
   ]
  },
  {
   "cell_type": "code",
   "execution_count": null,
   "metadata": {},
   "outputs": [],
   "source": [
    "import pandas as pd\n",
    "from sklearn.model_selection import train_test_split\n",
    "from sklearn.metrics import accuracy_score, classification_report, ConfusionMatrixDisplay\n",
    "from sklearn.dummy import DummyClassifier\n",
    "import matplotlib.pyplot as plt\n",
    "from sklearn.linear_model import LogisticRegression\n",
    "from sklearn.ensemble import GradientBoostingClassifier"
   ]
  },
  {
   "cell_type": "code",
   "execution_count": null,
   "metadata": {},
   "outputs": [],
   "source": [
    "# Load the red and white wine datasets\n",
    "df_red = pd.read_csv('/home/hjoaquim/Documents/applied-ai/wine-analysis/data/red_wine.csv')\n",
    "df_white = pd.read_csv('/home/hjoaquim/Documents/applied-ai/wine-analysis/data/white_wine.csv')\n",
    "\n",
    "# Remove rows with missing values from both datasets\n",
    "df_red.dropna(inplace=True)\n",
    "df_white.dropna(inplace=True)\n",
    "\n",
    "# Create column color with value 1 for red wine and 0 for white wine\n",
    "df_red['color'] = 1\n",
    "df_white['color'] = 0\n",
    "\n",
    "# Merge the datasets\n",
    "wine_data = pd.concat([df_red, df_white], ignore_index=True)\n",
    "display(wine_data.head())"
   ]
  },
  {
   "cell_type": "code",
   "execution_count": null,
   "metadata": {},
   "outputs": [],
   "source": [
    "# TODO: balance the dataset by randomly removing some of the majority class samples."
   ]
  },
  {
   "cell_type": "code",
   "execution_count": null,
   "metadata": {},
   "outputs": [],
   "source": [
    "# Since we want to predict 'color', separate the features and the target\n",
    "X = wine_data.drop('color', axis=1)\n",
    "y = wine_data['color']\n",
    "\n",
    "# Split the data into training and test sets\n",
    "X_train, X_test, y_train, y_test = train_test_split(X, y, test_size=0.2, random_state=42)"
   ]
  },
  {
   "cell_type": "code",
   "execution_count": null,
   "metadata": {},
   "outputs": [],
   "source": [
    "# Initialize a baseline algorithm using DummyClassifier\n",
    "# The strategy \"most_frequent\" will always predict the most frequent class label in the training dataset\n",
    "dummy_clf = DummyClassifier(strategy='most_frequent', random_state=42)\n",
    "dummy_clf.fit(X_train, y_train)\n",
    "\n",
    "# Predict with DummyClassifier\n",
    "y_pred_dummy = dummy_clf.predict(X_test)\n",
    "\n",
    "# Evaluate the baseline classifier\n",
    "accuracy_score_dummy = accuracy_score(y_test, y_pred_dummy)\n",
    "print(f\"Accuracy: {accuracy_score_dummy:.2f}\")\n",
    "print(classification_report(y_test, y_pred_dummy, target_names=[\"withe_wine_0\", \"red_wine_1\"], zero_division=0.0))\n",
    "ConfusionMatrixDisplay.from_estimator(dummy_clf, X_test, y_test, display_labels=[\"withe_wine_0\", \"red_wine_1\"])\n",
    "plt.show()"
   ]
  },
  {
   "cell_type": "code",
   "execution_count": null,
   "metadata": {},
   "outputs": [],
   "source": [
    "# Initialize models\n",
    "log_reg = LogisticRegression(random_state=42, max_iter=1000)\n",
    "gb_clf = GradientBoostingClassifier(n_estimators=100, random_state=42)\n",
    "\n",
    "# Train models\n",
    "log_reg.fit(X_train, y_train)\n",
    "gb_clf.fit(X_train, y_train)\n",
    "\n",
    "# Predict\n",
    "y_pred_log_reg = log_reg.predict(X_test)\n",
    "y_pred_gb = gb_clf.predict(X_test)\n",
    "\n",
    "# Evaluate\n",
    "log_reg_accuracy = accuracy_score(y_test, y_pred_log_reg)\n",
    "log_reg_report = classification_report(y_test, y_pred_log_reg)\n",
    "gb_accuracy = accuracy_score(y_test, y_pred_gb)\n",
    "gb_report = classification_report(y_test, y_pred_gb)\n",
    "\n",
    "print(\"Logistic Regression Accuracy: {:.2f}%\".format(log_reg_accuracy * 100))\n",
    "print(log_reg_report)\n",
    "print(\"\\nGradient Boosting Accuracy: {:.2f}%\".format(gb_accuracy * 100))\n",
    "print(gb_report)\n",
    "\n",
    "# Display Confusion Matrix\n",
    "ConfusionMatrixDisplay.from_estimator(log_reg, X_test, y_test, display_labels=[\"withe_wine_0\", \"red_wine_1\"])\n",
    "plt.title('Logistic Regression')\n",
    "plt.show()\n",
    "ConfusionMatrixDisplay.from_estimator(gb_clf, X_test, y_test, display_labels=[\"withe_wine_0\", \"red_wine_1\"])\n",
    "plt.title('Gradient Boosting')\n",
    "plt.show()"
   ]
  }
 ],
 "metadata": {
  "kernelspec": {
   "display_name": "wine-analysis",
   "language": "python",
   "name": "python3"
  },
  "language_info": {
   "codemirror_mode": {
    "name": "ipython",
    "version": 3
   },
   "file_extension": ".py",
   "mimetype": "text/x-python",
   "name": "python",
   "nbconvert_exporter": "python",
   "pygments_lexer": "ipython3",
   "version": "3.11.7"
  }
 },
 "nbformat": 4,
 "nbformat_minor": 2
}
