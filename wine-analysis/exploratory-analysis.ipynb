{
 "cells": [
  {
   "cell_type": "code",
   "execution_count": null,
   "metadata": {},
   "outputs": [],
   "source": [
    "import pandas as pd\n",
    "import matplotlib.pyplot as plt\n",
    "import seaborn as sns\n",
    "from scipy import stats\n",
    "import numpy as np"
   ]
  },
  {
   "cell_type": "code",
   "execution_count": null,
   "metadata": {},
   "outputs": [],
   "source": [
    "df_red = pd.read_csv('/home/hjoaquim/Documents/applied-ai/wine-analysis/data/red_wine.csv')\n",
    "df_white = pd.read_csv('/home/hjoaquim/Documents/applied-ai/wine-analysis/data/white_wine.csv')"
   ]
  },
  {
   "cell_type": "code",
   "execution_count": null,
   "metadata": {},
   "outputs": [],
   "source": [
    "print(\"Red wine data\")\n",
    "display(df_red.head())\n",
    "print(\"Withe wine data\")\n",
    "display(df_white.head())"
   ]
  },
  {
   "cell_type": "markdown",
   "metadata": {},
   "source": [
    "# Exploratory Data Analysis"
   ]
  },
  {
   "cell_type": "code",
   "execution_count": null,
   "metadata": {},
   "outputs": [],
   "source": [
    "print(f\"Shape: red wine: {df_red.shape}\")\n",
    "print(f\"Shape: white wine: {df_white.shape}\")"
   ]
  },
  {
   "cell_type": "code",
   "execution_count": null,
   "metadata": {},
   "outputs": [],
   "source": [
    "print(\"Descriptive Statistics: red wine\")\n",
    "display(df_red.describe())\n",
    "print(\"Descriptive Statistics: white wine\")\n",
    "display(df_white.describe())"
   ]
  },
  {
   "cell_type": "code",
   "execution_count": null,
   "metadata": {},
   "outputs": [],
   "source": [
    "print(\"Types: red wine\"); display(df_red.dtypes)\n",
    "print(\"Types: white wine\"); display(df_white.dtypes)"
   ]
  },
  {
   "cell_type": "code",
   "execution_count": null,
   "metadata": {},
   "outputs": [],
   "source": [
    "df_red.isnull().sum()"
   ]
  },
  {
   "cell_type": "code",
   "execution_count": null,
   "metadata": {},
   "outputs": [],
   "source": [
    "df_white.isnull().sum()"
   ]
  },
  {
   "cell_type": "code",
   "execution_count": null,
   "metadata": {},
   "outputs": [],
   "source": [
    "# Rows with null values\n",
    "print(\"Red wine\"); display(df_red[df_red['residual sugar'].isnull()])\n",
    "print(\"White wine\"); display(df_white[df_white['residual sugar'].isnull()])"
   ]
  },
  {
   "cell_type": "code",
   "execution_count": null,
   "metadata": {},
   "outputs": [],
   "source": [
    "# Univariate analysis - understanding the distribution of each variable\n",
    "print(\"Red wine\"); df_red.hist(figsize=(10,10)); plt.show()\n",
    "print(\"White wine\"); df_white.hist(figsize=(10,10)); plt.show()"
   ]
  },
  {
   "cell_type": "markdown",
   "metadata": {},
   "source": [
    "## Interpreting the Histograms\n",
    "\n",
    "### Red wine\n",
    "\n",
    "1. **Fixed Acidity**:\n",
    "    - The data is somewhat right-skewed, indicating that most wines have a lower fixed acidity, but a few have a high fixed acidity.\n",
    "2. **Volatile Acidit**y:\n",
    "    - The distribution appears fairly normal but slightly right-skewed, suggesting that while many wines have a moderate level of volatile acidity, there are fewer wines with high volatile acidity.\n",
    "3. **Citric Acid**:\n",
    "    - This histogram shows a right-skewed distribution with a peak close to zero, indicating most wines have low citric acid content. There's a long tail towards higher citric acid contents, showing that fewer wines have higher amounts.\n",
    "4. **Residual Sugar**:\n",
    "    - The distribution is heavily right-skewed. Most of the wines have low residual sugar, with very few wines having high residual sugar levels.\n",
    "5. **Chlorides**:\n",
    "    - The data is right-skewed, which suggests most wines have low chloride content, with some exceptional wines having higher chloride levels.\n",
    "6. **Free Sulfur Dioxide**:\n",
    "    - This variable shows a right-skewed distribution. The majority of wines have a lower amount of free sulfur dioxide, and fewer wines have a higher amount.\n",
    "7. **Total Sulfur Dioxide**:\n",
    "    - The distribution is also right-skewed, indicating that most wines have a lower concentration of total sulfur dioxide, but there are some with a significantly higher concentration.\n",
    "8. **Density**:\n",
    "    - The density histogram appears to be somewhat normally distributed, but with a peak slightly to the left, suggesting many wines have a density around a common value with fewer wines at the lower and higher ends.\n",
    "9. **pH**:\n",
    "    - The distribution looks approximately normal, indicating that the pH levels of most wines are concentrated around a central value, which is typical for wine.\n",
    "10. **Sulphates**:\n",
    "    - The histogram for sulphates is right-skewed, indicating most wines have a low to moderate sulphate level, and fewer wines have high levels of sulphates.\n",
    "11. **Alcohol**:\n",
    "    - The alcohol content appears to have a bimodal distribution, suggesting two different groups within the dataset, possibly indicating wines with typically lower alcohol content and those with higher alcohol content.\n",
    "12. **Quality**:\n",
    "    - The quality variable shows a distribution that is not quite normal and is skewed to the right. It suggests that there are more wines of medium quality and fewer of high quality.\n",
    "\n",
    "### White wine\n",
    "\n",
    "1. **Fixed Acidity**:\n",
    "    - This histogram shows a right-skewed distribution with a peak around 6-8, indicating that most wines have moderate fixed acidity levels, with fewer wines having higher acidity.\n",
    "2. **Volatile Acidity**:\n",
    "    - The distribution is slightly right-skewed, with most wines having low to moderate volatile acidity.\n",
    "3. **Citric Acid**:\n",
    "    - The data is right-skewed with most wines containing lower levels of citric acid and fewer wines having higher levels.\n",
    "4. **Residual Sugar**:\n",
    "    - A heavily right-skewed distribution indicates that most wines have low levels of residual sugar, with a few wines showing much higher levels.\n",
    "5. **Chlorides**:\n",
    "    - This histogram shows a right-skewed distribution, with most wines having low chloride content.\n",
    "6. **Free Sulfur Dioxide**:\n",
    "    - The distribution is right-skewed, with a concentration of wines having lower levels of free sulfur dioxide.\n",
    "7. **Total Sulfur Dioxide**:\n",
    "    - The data shows a right-skewed distribution, indicating that most wines have low to moderate levels of total sulfur dioxide.\n",
    "8. **Density**:\n",
    "    - The histogram suggests a normal distribution centered around 0.996 to 0.998, indicating that most wines have a similar density.\n",
    "9. **pH**:\n",
    "    - The distribution appears to be normally distributed with a slight left skew, indicating that the pH of most wines is concentrated around a central value.\n",
    "10. **Sulphates**:\n",
    "    - The data is right-skewed, with the majority of wines having lower sulphate levels.\n",
    "11. **Alcohol**:\n",
    "    - This histogram is quite right-skewed, with a majority of wines having an alcohol content around 9-10%.\n",
    "12. **Quality**:\n",
    "    - The quality distribution shows that most wines are of average quality, with few wines at the high and low ends of the quality scale.\n",
    "\n",
    "### Summary\n",
    "\n",
    "**Right Skewness**: Many variables such as fixed acidity, volatile acidity, citric acid, residual sugar, chlorides, free sulfur dioxide, total sulfur dioxide, and sulphates show a right-skewed distribution in both sets of wine data. This indicates a commonality in the distribution where a large number of wines tend to have lower values for these chemical properties, with fewer wines having high values.\n",
    "\n",
    "**Density**: In both datasets, the density appears to be normally distributed, suggesting a similarity in wine production processes that result in a consistent density.\n",
    "\n",
    "**pH**: Both histograms for pH are approximately normal, indicating that the acidity level in both sets of wines tends to cluster around a central typical value.\n",
    "\n",
    "**Alcohol Content**: Both sets have histograms that show skewness, but the second dataset's (**white wine**) histogram is more right-skewed, indicating a tendency for lower alcohol content with fewer wines having higher alcohol content, whereas the first (**red wine**)dataset showed a bimodal distribution.\n",
    "\n",
    "**Quality**: The quality variable for both datasets is not normally distributed and shows a concentration of data around the median quality levels, suggesting most wines are of average quality in both datasets.\n",
    "\n",
    "These similarities suggest that despite differences that may exist in the details of each wine's properties, there are common trends in terms of their chemical composition and quality distribution. These trends could reflect industry standards, common winemaking practices, or consumer preferences that influence how wines are produced and marketed."
   ]
  },
  {
   "cell_type": "code",
   "execution_count": null,
   "metadata": {},
   "outputs": [],
   "source": [
    "# Bar chart of quality counts\n",
    "red_q = df_red['quality'].value_counts().sort_index()\n",
    "white_q = df_white['quality'].value_counts().sort_index()\n",
    "print(\"Red wine\"); red_q.plot(kind='bar', title='Red Wine Quality Counts'); plt.show()\n",
    "print(\"White wine\"); white_q.plot(kind='bar', title='White Wine Quality Counts'); plt.show()"
   ]
  },
  {
   "cell_type": "code",
   "execution_count": null,
   "metadata": {},
   "outputs": [],
   "source": [
    "# Correlation matrix\n",
    "print(\"Red wine\")\n",
    "display(df_red.corr())\n",
    "plt.figure(figsize=(12, 9))\n",
    "sns.heatmap(df_red.corr(), annot=True, fmt=\".2f\")\n",
    "plt.show()\n",
    "\n",
    "print(\"White wine\")\n",
    "display(df_white.corr())\n",
    "plt.figure(figsize=(12, 9))\n",
    "sns.heatmap(df_white.corr(), annot=True, fmt=\".2f\")\n",
    "plt.show()"
   ]
  },
  {
   "cell_type": "markdown",
   "metadata": {},
   "source": [
    "## Interpret the heatmap\n",
    "\n",
    "### Red wine\n",
    "\n",
    "1. **Fixed Acidity:**\n",
    "    - Has a strong positive correlation with citric acid (0.67), which is expected as both are acids.\n",
    "    - Has a strong negative correlation with pH (-0.69), indicating that as fixed acidity increases, pH tends to decrease (become more acidic).\n",
    "\n",
    "2. **Volatile Acidity:**\n",
    "    - Shows a strong negative correlation with citric acid (-0.56), which suggests that as volatile acidity increases, citric acid tends to decrease.\n",
    "    - Has a moderately negative correlation with quality (-0.38), implying that higher volatile acidity may be associated with lower wine quality.\n",
    "\n",
    "3. **Citric Acid:**\n",
    "    - Has a moderate positive correlation with sulphates (0.31), indicating a relationship where wines with more citric acid also tend to have more sulphates.\n",
    "\n",
    "4. **Residual Sugar, Chlorides, Free Sulfur Dioxide, Total Sulfur Dioxide:**\n",
    "    - These variables do not show strong correlations with other variables in the heatmap (most coefficients are close to 0), suggesting that they do not have strong linear relationships with other measured components in red wine.\n",
    "\n",
    "5. **Density:**\n",
    "    - Has a moderate positive correlation with fixed acidity (0.67) and a moderate negative correlation with alcohol (-0.50), which makes sense as alcohol tends to be less dense than water.\n",
    "\n",
    "6. **pH:**\n",
    "    - Shows a strong negative correlation with fixed acidity (-0.69) and a moderate negative correlation with citric acid (-0.54), which aligns with the chemical understanding that more acid lowers the pH value.\n",
    "\n",
    "7. **Sulphates:**\n",
    "    - Has a moderate positive correlation with citric acid (0.31) and a mild positive correlation with quality (0.25), suggesting that sulphates might contribute positively to the perceived quality of red wine.\n",
    "\n",
    "8. **Alcohol:**\n",
    "    - Exhibits the strongest positive correlation with quality (0.47) within this heatmap, suggesting that higher alcohol content may be associated with higher quality ratings in red wine.\n",
    "\n",
    "9. **Quality:**\n",
    "    - Aside from alcohol, it has a moderate negative correlation with volatile acidity (-0.38) and a mild positive correlation with sulphates (0.25). This suggests that wines with less volatile acidity and more sulphates tend to be rated as higher quality.\n",
    "\n",
    "### White wine\n",
    "\n",
    "1. **Fixed Acidity:**\n",
    "    - Has a moderate negative correlation with pH (-0.43), suggesting that as fixed acidity increases, pH tends to decrease.\n",
    "    - There are no strong positive correlations with any other variables.\n",
    "\n",
    "2. **Volatile Acidity:**\n",
    "    - Does not show strong correlations with any of the variables. The highest correlation is a very weak negative correlation with quality (-0.19), indicating a slight tendency for lower quality with higher volatile acidity.\n",
    "\n",
    "3. **Citric Acid:**\n",
    "    - Also shows no strong correlations with other variables in the dataset.\n",
    "\n",
    "4. **Residual Sugar:**\n",
    "    - Has a strong positive correlation with density (0.84), which is logical since sugar increases the density of the liquid.\n",
    "    - There's a moderate positive correlation with total sulfur dioxide (0.39). This might be due to the fact that wines with higher sugar content could need more sulfur dioxide as a preservative.\n",
    "\n",
    "5. **Chlorides:**\n",
    "    - No strong correlations are observed with chlorides and other variables.\n",
    "\n",
    "6. **Free Sulfur Dioxide and Total Sulfur Dioxide:**\n",
    "    - Show a strong positive correlation with each other (0.62). This is expected as free sulfur dioxide is a part of the total sulfur dioxide measurement.\n",
    "    - Both have a moderate positive correlation with residual sugar (0.29 for free and 0.39 for total), possibly indicating that sweeter wines might contain higher levels of sulfur dioxide, possibly due to the preservative qualities needed for sweeter wines.\n",
    "\n",
    "7. **Density:**\n",
    "    - Shows a strong positive correlation with residual sugar (0.84) as mentioned, and a moderate positive correlation with alcohol (0.52). This latter correlation could be due to higher sugar content wines undergoing more fermentation, leading to higher alcohol content.\n",
    "\n",
    "8. **pH:**\n",
    "    - Shows a moderate negative correlation with fixed acidity (-0.43), which is a typical chemical relationship (acidic substances lower the pH).\n",
    "\n",
    "9. **Sulphates:**\n",
    "    - There is a weak correlation between sulphates and other variables in the dataset.\n",
    "\n",
    "10. **Alcohol:**\n",
    "    - Has a moderate negative correlation with density (-0.60), which makes sense because alcohol is less dense than water.\n",
    "    - There is a moderate positive correlation with quality (0.35), suggesting that wines with higher alcohol content might be associated with higher quality.\n",
    "\n",
    "11. **Quality:**\n",
    "    - The strongest correlation with quality is with alcohol (0.35), indicating that as alcohol content increases, quality rating might also increase.\n",
    "    - Quality shows weak negative correlations with volatile acidity (-0.19) and density (-0.30), suggesting that higher quality wines might have lower volatile acidity and density."
   ]
  },
  {
   "cell_type": "markdown",
   "metadata": {},
   "source": [
    "## Outliers\n",
    "\n",
    "**IQR (Interquartile Range)**: The IQR is the difference between the 75th percentile (Q3) and the 25th percentile (Q1) in a dataset. An outlier is often considered to be any data point that lies more than 1.5 times the IQR above the third quartile or below the first "
   ]
  },
  {
   "cell_type": "code",
   "execution_count": null,
   "metadata": {},
   "outputs": [],
   "source": [
    "Q1 = df_red.quantile(0.25)\n",
    "Q3 = df_red.quantile(0.75)\n",
    "IQR = Q3 - Q1\n",
    "outliers = df_red[(df_red < (Q1 - 1.5 * IQR)) | (df_red > (Q3 + 1.5 * IQR))]"
   ]
  },
  {
   "cell_type": "code",
   "execution_count": null,
   "metadata": {},
   "outputs": [],
   "source": [
    "outliers"
   ]
  },
  {
   "cell_type": "code",
   "execution_count": null,
   "metadata": {},
   "outputs": [],
   "source": [
    "outliers.notna().sum()"
   ]
  }
 ],
 "metadata": {
  "kernelspec": {
   "display_name": "wine-analysis",
   "language": "python",
   "name": "python3"
  },
  "language_info": {
   "codemirror_mode": {
    "name": "ipython",
    "version": 3
   },
   "file_extension": ".py",
   "mimetype": "text/x-python",
   "name": "python",
   "nbconvert_exporter": "python",
   "pygments_lexer": "ipython3",
   "version": "3.11.7"
  }
 },
 "nbformat": 4,
 "nbformat_minor": 2
}
